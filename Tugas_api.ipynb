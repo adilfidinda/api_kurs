{
  "nbformat": 4,
  "nbformat_minor": 0,
  "metadata": {
    "colab": {
      "name": "Tugas_api.ipynb",
      "provenance": [],
      "collapsed_sections": []
    },
    "kernelspec": {
      "name": "python3",
      "display_name": "Python 3"
    }
  },
  "cells": [
    {
      "cell_type": "code",
      "metadata": {
        "id": "n4-n8uhiapZZ",
        "colab_type": "code",
        "colab": {
          "base_uri": "https://localhost:8080/",
          "height": 121
        },
        "outputId": "fde90e64-e504-4133-dbdb-664b6c814ad2"
      },
      "source": [
        "import requests\n",
        "token = \"dlq8r3K1ikQUkbnaCHDRF48SbD9NyoyIoj0nzlKN\"\n",
        "b ={'1' : \"IDR to Mata Uang Asing\", '2' : \"Mata Uang Asing to IDR\"}\n",
        "\n",
        "bank = input(\"Masukkan Nama Bank : \")\n",
        "opsi = input('Menu Opsi : ')\n",
        "kurs_asing = input('Masukkan Mata uang Asing : ')\n",
        "nilai_uang = int(input('Masukkan nilai uang : '))\n",
        "print()\n",
        "\n",
        "URL = f\"https://api.kurs.web.id/api/v1?token={token}&bank={bank}&matauang={kurs_asing}\"\n",
        "data = requests.get(URL)\n",
        "output = data.json()\n",
        "kurs_jual = output['jual']\n",
        "\n",
        "if b.get(opsi) == 'IDR to Mata Uang Asing' :\n",
        "  result = round(nilai_uang/kurs_jual)\n",
        "  print(f'Nilai uang anda {nilai_uang:,} rupiah dalam {kurs_asing.upper()} adalah {result:,}')\n",
        "elif b.get(opsi) == 'Mata Uang Asing to IDR':\n",
        "  result = nilai_uang*kurs_jual\n",
        "  print(f'Nilai uang anda {nilai_uang:,} {kurs_asing.upper()} dalam Rupiah adalah {result:,}')\n",
        "else :\n",
        "  print(\"Invalid Input of 'Menu Opsi'\")"
      ],
      "execution_count": 75,
      "outputs": [
        {
          "output_type": "stream",
          "text": [
            "Masukkan Nama Bank : bca\n",
            "Menu Opsi : 2\n",
            "Masukkan Mata uang Asing : sgd\n",
            "Masukkan nilai uang : 1000\n",
            "\n",
            "Nilai uang anda 1,000 SGD dalam Rupiah adalah 10,914,000\n"
          ],
          "name": "stdout"
        }
      ]
    }
  ]
}